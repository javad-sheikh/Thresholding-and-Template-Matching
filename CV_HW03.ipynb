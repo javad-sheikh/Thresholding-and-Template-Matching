{
 "cells": [
  {
   "cell_type": "code",
   "execution_count": 2,
   "metadata": {
    "scrolled": false
   },
   "outputs": [],
   "source": [
    "import numpy as np\n",
    "import cv2\n",
    "import matplotlib.pyplot as plt"
   ]
  },
  {
   "source": [
    "# simple binary thresholding to find car in frames"
   ],
   "cell_type": "markdown",
   "metadata": {}
  },
  {
   "cell_type": "code",
   "execution_count": 49,
   "metadata": {},
   "outputs": [],
   "source": [
    "cap = cv2.VideoCapture('vid.mp4')\n",
    "\n",
    "while(cap.isOpened()):\n",
    "\n",
    "    ret, frame = cap.read()\n",
    "\n",
    "    if(ret==False):\n",
    "        break\n",
    "    gray = cv2.cvtColor(frame, cv2.COLOR_BGR2GRAY)\n",
    "    y_size, x_size = gray.shape\n",
    "\n",
    "    ROI = gray[int(y_size*0.35):y_size-int(y_size*0.35),int(x_size*0.4):x_size-int(x_size*0.35)]\n",
    "\n",
    "    retval,thresholded = cv2.threshold(ROI,thresh=90,maxval=255,type=cv2.THRESH_BINARY)\n",
    "\n",
    "    gray[:,:]=255\n",
    "\n",
    "    gray[int(y_size*0.35):y_size-int(y_size*0.35),int(x_size*0.4):x_size-int(x_size*0.35)] =thresholded\n",
    "\n",
    "    cv2.imshow('video', gray)\n",
    "    if cv2.waitKey(1) & 0xFF == ord('q'):\n",
    "        break\n",
    "cap.release()\n",
    "cv2.destroyAllWindows()"
   ]
  },
  {
   "source": [
    "# Adaptive thresholding using gaussian_c and mean_c"
   ],
   "cell_type": "markdown",
   "metadata": {}
  },
  {
   "cell_type": "code",
   "execution_count": 50,
   "metadata": {},
   "outputs": [],
   "source": [
    "cap = cv2.VideoCapture('vid.mp4')\n",
    "\n",
    "while(cap.isOpened()):\n",
    "    ret, frame = cap.read()\n",
    "\n",
    "    if(ret==False):\n",
    "            break\n",
    "\n",
    "    gray = cv2.cvtColor(frame, cv2.COLOR_BGR2GRAY)\n",
    "    \n",
    "    y_size, x_size = gray.shape\n",
    "\n",
    "    ROI = gray[int(y_size*0.35):y_size-int(y_size*0.35),int(x_size*0.4):x_size-int(x_size*0.35)]\n",
    "\n",
    "    thresholded = cv2.adaptiveThreshold(ROI,maxValue=250,                                                                                      adaptiveMethod=cv2.ADAPTIVE_THRESH_GAUSSIAN_C,\n",
    "                                        thresholdType=cv2.THRESH_BINARY,\n",
    "                                        blockSize=9,C=20)\n",
    "    \n",
    "    gray[:,:]=250\n",
    "\n",
    "    gray[int(y_size*0.35):y_size-int(y_size*0.35),int(x_size*0.4):x_size-int(x_size*0.35)] =thresholded\n",
    "\n",
    "    cv2.imshow('video', gray)\n",
    "    if cv2.waitKey(1) & 0xFF == ord('q'):\n",
    "        break\n",
    "cap.release()\n",
    "cv2.destroyAllWindows()"
   ]
  },
  {
   "cell_type": "code",
   "execution_count": 51,
   "metadata": {},
   "outputs": [],
   "source": [
    "cap = cv2.VideoCapture('vid.mp4')\n",
    "\n",
    "while(cap.isOpened()):\n",
    "    ret, frame = cap.read()\n",
    "\n",
    "    if(ret==False):\n",
    "            break\n",
    "\n",
    "    gray = cv2.cvtColor(frame, cv2.COLOR_BGR2GRAY)\n",
    "\n",
    "    y_size, x_size = gray.shape\n",
    "\n",
    "    ROI = gray[int(y_size*0.35):y_size-int(y_size*0.35),int(x_size*0.4):x_size-int(x_size*0.35)]\n",
    "    \n",
    "    thresholded = cv2.adaptiveThreshold(ROI,maxValue=250,\n",
    "                                        adaptiveMethod=cv2.ADAPTIVE_THRESH_MEAN_C,                                                             thresholdType=cv2.THRESH_BINARY,\n",
    "                                        blockSize=9,C=30)\n",
    "    gray[:,:]=250\n",
    "\n",
    "    gray[int(y_size*0.35):y_size-int(y_size*0.35),int(x_size*0.4):x_size-int(x_size*0.35)] =thresholded\n",
    "\n",
    "    cv2.imshow('video', gray)\n",
    "    if cv2.waitKey(1) & 0xFF == ord('q'):\n",
    "        break\n",
    "cap.release()\n",
    "cv2.destroyAllWindows()"
   ]
  },
  {
   "source": [
    "# Finding template\n",
    " finding template of car using adaptive thresholding and Finding contours"
   ],
   "cell_type": "markdown",
   "metadata": {}
  },
  {
   "cell_type": "code",
   "execution_count": 53,
   "metadata": {
    "tags": []
   },
   "outputs": [],
   "source": [
    "cap = cv2.VideoCapture('vid.mp4')\n",
    "while(cap.isOpened()):\n",
    "    ret, frame = cap.read()\n",
    "    if(ret==False):\n",
    "        break\n",
    "    imgray = cv2.cvtColor(frame, cv2.COLOR_BGR2GRAY)\n",
    "    \n",
    "    y_size, x_size = imgray.shape\n",
    "    ROI = imgray[int(y_size*0.35):y_size-int(y_size*0.35),int(x_size*0.4):x_size-int(x_size*0.35)]\n",
    "\n",
    "    ROI = cv2.GaussianBlur(ROI, ksize =(11,11),sigmaX=9,sigmaY=9)\n",
    "\n",
    "    thresholded = cv2.adaptiveThreshold(ROI,maxValue=250,\n",
    "                                        adaptiveMethod=cv2.ADAPTIVE_THRESH_GAUSSIAN_C,                                                         thresholdType=cv2.THRESH_BINARY,\n",
    "                                        blockSize=9,C=7)\n",
    "    \n",
    "    im2, contours, hierarchy = cv2.findContours(thresholded, cv2.RETR_TREE, cv2.CHAIN_APPROX_SIMPLE)\n",
    "    roi = frame[int(y_size*0.35):y_size-int(y_size*0.35),int(x_size*0.4):x_size-int(x_size*0.35)]\n",
    "    cv2.drawContours(roi, contours[4:], -1, (0,255,0), 3)\n",
    "    \n",
    "\n",
    "    try: hierarchy = hierarchy[0]\n",
    "    except: hierarchy = []\n",
    "    \n",
    "    height, width, _ = roi.shape\n",
    "    min_x, min_y = width, height\n",
    "    max_x = max_y = 0\n",
    "\n",
    "    # computes the bounding box for the contour, and draws it on the frame,\n",
    "    for contour, hier in zip(contours[4:], hierarchy[4:]):\n",
    "        (x,y,w,h) = cv2.boundingRect(contour)\n",
    "        min_x, max_x = min(x, min_x), max(x+w, max_x)\n",
    "        min_y, max_y = min(y, min_y), max(y+h, max_y)\n",
    "\n",
    "    if max_x - min_x > 0 and max_y - min_y > 0:\n",
    "        cv2.rectangle(roi, (min_x, min_y), (max_x, max_y), (0, 0, 255), 2)\n",
    "        \n",
    "    frame[int(y_size*0.35):y_size-int(y_size*0.35),int(x_size*0.4):x_size-int(x_size*0.35)] = roi\n",
    "\n",
    "    cv2.imshow('video', frame)\n",
    "    if cv2.waitKey(1) & 0xFF == ord('q'):\n",
    "        break\n",
    "cap.release()\n",
    "cv2.destroyAllWindows()"
   ]
  },
  {
   "source": [
    "## Extract couple of templates"
   ],
   "cell_type": "markdown",
   "metadata": {}
  },
  {
   "cell_type": "code",
   "execution_count": 42,
   "metadata": {},
   "outputs": [],
   "source": [
    "cap = cv2.VideoCapture('vid.mp4')\n",
    "count=0\n",
    "count_template=0\n",
    "while(cap.isOpened()):\n",
    "    ret, frame = cap.read()\n",
    "    if(ret==False):\n",
    "        break\n",
    "    count+=1\n",
    "    if not (count==100 or count==350 or count==735 or count==900):\n",
    "        continue\n",
    "    imgray = cv2.cvtColor(frame, cv2.COLOR_BGR2GRAY)\n",
    "    \n",
    "    y_size, x_size = imgray.shape\n",
    "    ROI = imgray[int(y_size*0.35):y_size-int(y_size*0.35),int(x_size*0.4):x_size-int(x_size*0.35)]\n",
    "\n",
    "    ROI = cv2.GaussianBlur(ROI, ksize =(11,11),sigmaX=9,sigmaY=9)\n",
    "\n",
    "    thresholded = cv2.adaptiveThreshold(ROI,maxValue=250,\n",
    "                                        adaptiveMethod=cv2.ADAPTIVE_THRESH_GAUSSIAN_C,                                                         thresholdType=cv2.THRESH_BINARY,\n",
    "                                        blockSize=9,C=7)\n",
    "    \n",
    "    im2, contours, hierarchy = cv2.findContours(thresholded, cv2.RETR_TREE, cv2.CHAIN_APPROX_SIMPLE)\n",
    "    roi = frame[int(y_size*0.35):y_size-int(y_size*0.35),int(x_size*0.4):x_size-int(x_size*0.35)]\n",
    "    tmp = roi.copy()\n",
    "    cv2.drawContours(roi, contours[4:], -1, (0,255,0), 3)\n",
    "    \n",
    "\n",
    "    try: hierarchy = hierarchy[0]\n",
    "    except: hierarchy = []\n",
    "    \n",
    "    height, width, _ = roi.shape\n",
    "    min_x, min_y = width, height\n",
    "    max_x = max_y = 0\n",
    "\n",
    "    # computes the bounding box for the contour, and draws it on the frame,\n",
    "    for contour, hier in zip(contours[4:], hierarchy[4:]):\n",
    "        (x,y,w,h) = cv2.boundingRect(contour)\n",
    "        min_x, max_x = min(x, min_x), max(x+w, max_x)\n",
    "        min_y, max_y = min(y, min_y), max(y+h, max_y)\n",
    "\n",
    "    \n",
    "    if max_x - min_x > 0 and max_y - min_y > 0:\n",
    "        cv2.rectangle(roi, (min_x, min_y), (max_x, max_y), (0, 0, 255), 2)\n",
    "        file_name = \"template\"+str(int((count-1)/100))+\".png\"\n",
    "        if min_x-10>0 and min_y-10>0 :\n",
    "            cv2.imwrite(file_name,tmp[min_y-10:max_y+10,min_x-10:max_x+10])\n",
    "        else:\n",
    "            cv2.imwrite(file_name,tmp[min_y:max_y+10,min_x:max_x+10])\n",
    "\n",
    "\n",
    "    cv2.imshow(\"video\", frame)\n",
    "    if cv2.waitKey(10) & 0xFF == ord('q'):\n",
    "        break\n",
    "cap.release()\n",
    "cv2.destroyAllWindows()"
   ]
  },
  {
   "source": [
    "## Match the templates found"
   ],
   "cell_type": "markdown",
   "metadata": {}
  },
  {
   "cell_type": "code",
   "execution_count": 56,
   "metadata": {},
   "outputs": [],
   "source": [
    "cap = cv2.VideoCapture('vid.mp4')\n",
    "import glob\n",
    "files = glob.glob(\"template*\")\n",
    "templates=[]\n",
    "for f in files:\n",
    "    templates.append(cv2.imread(f))\n",
    "\n",
    "while(cap.isOpened()):\n",
    "    ret, frame = cap.read()\n",
    "    if(ret==False):\n",
    "        break\n",
    "\n",
    "    imgray = cv2.cvtColor(frame, cv2.COLOR_BGR2GRAY)\n",
    "\n",
    "    y_size, x_size = imgray.shape\n",
    "    ROI = imgray[int(y_size*0.35):y_size-int(y_size*0.35),int(x_size*0.4):x_size-int(x_size*0.35)]\n",
    "\n",
    "    ROI = cv2.GaussianBlur(ROI, ksize =(5,5),sigmaX=1,sigmaY=1)\n",
    "    roi = frame[int(y_size*0.35):y_size-int(y_size*0.35),int(x_size*0.4):x_size-int(x_size*0.35)]\n",
    "    for template in templates:\n",
    "        template = cv2.cvtColor(template, cv2.COLOR_BGR2GRAY)\n",
    "        w, h= template.shape[::-1]\n",
    "        res = cv2.matchTemplate(ROI,template,cv2.TM_CCOEFF_NORMED)\n",
    "        threshold = 0.5\n",
    "        loc = np.where( res >= threshold)\n",
    "        for pt in zip(*loc[::-1]):\n",
    "            cv2.rectangle(roi, pt, (pt[0] + w, pt[1] + h), (0,0,255), 1)\n",
    "    frame[int(y_size*0.35):y_size-int(y_size*0.35),int(x_size*0.4):x_size-int(x_size*0.35)] = roi\n",
    "    cv2.imshow('video', frame)\n",
    "    if cv2.waitKey(1) & 0xFF == ord('q'):\n",
    "        break\n",
    "cap.release()\n",
    "cv2.destroyAllWindows()"
   ]
  },
  {
   "source": [
    "# Writing a video "
   ],
   "cell_type": "markdown",
   "metadata": {}
  },
  {
   "cell_type": "code",
   "execution_count": 90,
   "metadata": {},
   "outputs": [],
   "source": [
    "#### Initialize writing video\n",
    "frame_width = 600\n",
    "frame_height = 400\n",
    "out = cv2.VideoWriter('outpy.avi',cv2.VideoWriter_fourcc(*'mp4v'), 60, (frame_width,frame_height))\n",
    " \n",
    "#### Read video and process frame by frame\n",
    "cap = cv2.VideoCapture('vid.mp4')\n",
    "\n",
    "while(cap.isOpened()):\n",
    "    ret, frame = cap.read()\n",
    "\n",
    "    if(ret==False):\n",
    "            break\n",
    "#### Process frame\n",
    "    gray = cv2.cvtColor(frame, cv2.COLOR_BGR2GRAY)\n",
    "    y_size, x_size = gray.shape\n",
    "    ROI = gray[int(y_size*0.35):y_size-int(y_size*0.35),int(x_size*0.4):x_size-int(x_size*0.35)]\n",
    "\n",
    "    ROI = cv2.GaussianBlur(ROI, ksize =(5,5),sigmaX=2,sigmaY=2)\n",
    "    retval,thresholded = cv2.threshold(ROI,thresh=250,maxval=250,type=cv2.THRESH_OTSU)\n",
    "    \n",
    "    gray[:,:]=250\n",
    "    gray[int(y_size*0.35):y_size-int(y_size*0.35),int(x_size*0.4):x_size-int(x_size*0.35)] =thresholded\n",
    "    \n",
    "#### Write video as file\n",
    "    frame = cv2.cvtColor(gray, cv2.COLOR_GRAY2BGR)\n",
    "    outframe = cv2.resize(frame,(frame_width,frame_height))\n",
    "    out.write(outframe)\n",
    "\n",
    "#### Show video\n",
    "    cv2.imshow('video', outframe)\n",
    "    if cv2.waitKey(1) & 0xFF == ord('q'):\n",
    "        break\n",
    "cap.release()\n",
    "out.release()\n",
    "cv2.destroyAllWindows()"
   ]
  }
 ],
 "metadata": {
  "kernelspec": {
   "name": "python3",
   "display_name": "Python 3.7.7 64-bit (conda)",
   "metadata": {
    "interpreter": {
     "hash": "b2bbca7b25589987bc69e95430193d6372f81759d34e6ca1eac7aad3047d77e5"
    }
   }
  },
  "language_info": {
   "codemirror_mode": {
    "name": "ipython",
    "version": 3
   },
   "file_extension": ".py",
   "mimetype": "text/x-python",
   "name": "python",
   "nbconvert_exporter": "python",
   "pygments_lexer": "ipython3",
   "version": "3.7.7-final"
  }
 },
 "nbformat": 4,
 "nbformat_minor": 2
}